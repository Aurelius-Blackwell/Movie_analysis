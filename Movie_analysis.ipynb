{
 "cells": [
  {
   "cell_type": "markdown",
   "id": "82dc5df8-e34b-4e9f-ad61-6df87ea8c215",
   "metadata": {},
   "source": [
    "# **TMBD: Clash of the Revenues: Indie vs Blockbuster**\n",
    "#### **Index**\n",
    ">#### 1. [Importing and data cleaning](#1.-Importing-and-data-cleaning)\n",
    ">#### 2. [Revenue: basic overview](#2.-Revenue:-basic-overview)\n",
    ">#### 3. [Revenue and budgets](#3.-Revenue-and-budgets)"
   ]
  },
  {
   "cell_type": "markdown",
   "id": "0387af54-ca27-4045-9a68-c1345f57edba",
   "metadata": {},
   "source": [
    "## 1. Importing and data cleaning"
   ]
  },
  {
   "cell_type": "code",
   "execution_count": 47,
   "id": "024b327f-cb06-4863-9ab3-b8070645b29e",
   "metadata": {
    "jupyter": {
     "source_hidden": true
    }
   },
   "outputs": [],
   "source": [
    "# Libraries\n",
    "import numpy as np\n",
    "import seaborn as sns\n",
    "import matplotlib.pyplot as plt\n",
    "import pandas as pd\n",
    "import ast"
   ]
  },
  {
   "cell_type": "code",
   "execution_count": 48,
   "id": "0842ce1d-233b-4d49-8f54-6213584ca0ae",
   "metadata": {},
   "outputs": [],
   "source": [
    "# Dataset in current directory, else respecify pathway\n",
    "data = 'TMDB_movies.csv'\n",
    "\n",
    "df = pd.read_csv(data)"
   ]
  },
  {
   "cell_type": "code",
   "execution_count": 77,
   "id": "9170d1d3-d60f-4ad6-b227-7da47ed53aaf",
   "metadata": {
    "scrolled": true
   },
   "outputs": [
    {
     "data": {
      "text/html": [
       "<div>\n",
       "<style scoped>\n",
       "    .dataframe tbody tr th:only-of-type {\n",
       "        vertical-align: middle;\n",
       "    }\n",
       "\n",
       "    .dataframe tbody tr th {\n",
       "        vertical-align: top;\n",
       "    }\n",
       "\n",
       "    .dataframe thead th {\n",
       "        text-align: right;\n",
       "    }\n",
       "</style>\n",
       "<table border=\"1\" class=\"dataframe\">\n",
       "  <thead>\n",
       "    <tr style=\"text-align: right;\">\n",
       "      <th></th>\n",
       "      <th>budget</th>\n",
       "      <th>genres</th>\n",
       "      <th>homepage</th>\n",
       "      <th>id</th>\n",
       "      <th>keywords</th>\n",
       "      <th>original_language</th>\n",
       "      <th>original_title</th>\n",
       "      <th>overview</th>\n",
       "      <th>popularity</th>\n",
       "      <th>production_companies</th>\n",
       "      <th>...</th>\n",
       "      <th>tagline</th>\n",
       "      <th>title</th>\n",
       "      <th>vote_average</th>\n",
       "      <th>vote_count</th>\n",
       "      <th>year</th>\n",
       "      <th>month</th>\n",
       "      <th>genre_list</th>\n",
       "      <th>keywords_list</th>\n",
       "      <th>companiess_list</th>\n",
       "      <th>languages_list</th>\n",
       "    </tr>\n",
       "  </thead>\n",
       "  <tbody>\n",
       "    <tr>\n",
       "      <th>0</th>\n",
       "      <td>237000000</td>\n",
       "      <td>[{\"id\": 28, \"name\": \"Action\"}, {\"id\": 12, \"nam...</td>\n",
       "      <td>http://www.avatarmovie.com/</td>\n",
       "      <td>19995</td>\n",
       "      <td>[{\"id\": 1463, \"name\": \"culture clash\"}, {\"id\":...</td>\n",
       "      <td>en</td>\n",
       "      <td>Avatar</td>\n",
       "      <td>In the 22nd century, a paraplegic Marine is di...</td>\n",
       "      <td>150.437577</td>\n",
       "      <td>[{\"name\": \"Ingenious Film Partners\", \"id\": 289...</td>\n",
       "      <td>...</td>\n",
       "      <td>Enter the World of Pandora.</td>\n",
       "      <td>Avatar</td>\n",
       "      <td>7.2</td>\n",
       "      <td>11800</td>\n",
       "      <td>2009</td>\n",
       "      <td>12</td>\n",
       "      <td>[Action, Adventure, Fantasy, Science Fiction]</td>\n",
       "      <td>[culture clash, future, space war, space colon...</td>\n",
       "      <td>[Ingenious Film Partners, Twentieth Century Fo...</td>\n",
       "      <td>[English, Español]</td>\n",
       "    </tr>\n",
       "    <tr>\n",
       "      <th>1</th>\n",
       "      <td>300000000</td>\n",
       "      <td>[{\"id\": 12, \"name\": \"Adventure\"}, {\"id\": 14, \"...</td>\n",
       "      <td>http://disney.go.com/disneypictures/pirates/</td>\n",
       "      <td>285</td>\n",
       "      <td>[{\"id\": 270, \"name\": \"ocean\"}, {\"id\": 726, \"na...</td>\n",
       "      <td>en</td>\n",
       "      <td>Pirates of the Caribbean: At World's End</td>\n",
       "      <td>Captain Barbossa, long believed to be dead, ha...</td>\n",
       "      <td>139.082615</td>\n",
       "      <td>[{\"name\": \"Walt Disney Pictures\", \"id\": 2}, {\"...</td>\n",
       "      <td>...</td>\n",
       "      <td>At the end of the world, the adventure begins.</td>\n",
       "      <td>Pirates of the Caribbean: At World's End</td>\n",
       "      <td>6.9</td>\n",
       "      <td>4500</td>\n",
       "      <td>2007</td>\n",
       "      <td>5</td>\n",
       "      <td>[Adventure, Fantasy, Action]</td>\n",
       "      <td>[ocean, drug abuse, exotic island, east india ...</td>\n",
       "      <td>[Walt Disney Pictures, Jerry Bruckheimer Films...</td>\n",
       "      <td>[English]</td>\n",
       "    </tr>\n",
       "  </tbody>\n",
       "</table>\n",
       "<p>2 rows × 26 columns</p>\n",
       "</div>"
      ],
      "text/plain": [
       "      budget                                             genres  \\\n",
       "0  237000000  [{\"id\": 28, \"name\": \"Action\"}, {\"id\": 12, \"nam...   \n",
       "1  300000000  [{\"id\": 12, \"name\": \"Adventure\"}, {\"id\": 14, \"...   \n",
       "\n",
       "                                       homepage     id  \\\n",
       "0                   http://www.avatarmovie.com/  19995   \n",
       "1  http://disney.go.com/disneypictures/pirates/    285   \n",
       "\n",
       "                                            keywords original_language  \\\n",
       "0  [{\"id\": 1463, \"name\": \"culture clash\"}, {\"id\":...                en   \n",
       "1  [{\"id\": 270, \"name\": \"ocean\"}, {\"id\": 726, \"na...                en   \n",
       "\n",
       "                             original_title  \\\n",
       "0                                    Avatar   \n",
       "1  Pirates of the Caribbean: At World's End   \n",
       "\n",
       "                                            overview  popularity  \\\n",
       "0  In the 22nd century, a paraplegic Marine is di...  150.437577   \n",
       "1  Captain Barbossa, long believed to be dead, ha...  139.082615   \n",
       "\n",
       "                                production_companies  ...  \\\n",
       "0  [{\"name\": \"Ingenious Film Partners\", \"id\": 289...  ...   \n",
       "1  [{\"name\": \"Walt Disney Pictures\", \"id\": 2}, {\"...  ...   \n",
       "\n",
       "                                          tagline  \\\n",
       "0                     Enter the World of Pandora.   \n",
       "1  At the end of the world, the adventure begins.   \n",
       "\n",
       "                                      title  vote_average  vote_count  year  \\\n",
       "0                                    Avatar           7.2       11800  2009   \n",
       "1  Pirates of the Caribbean: At World's End           6.9        4500  2007   \n",
       "\n",
       "  month                                     genre_list  \\\n",
       "0    12  [Action, Adventure, Fantasy, Science Fiction]   \n",
       "1     5                   [Adventure, Fantasy, Action]   \n",
       "\n",
       "                                       keywords_list  \\\n",
       "0  [culture clash, future, space war, space colon...   \n",
       "1  [ocean, drug abuse, exotic island, east india ...   \n",
       "\n",
       "                                     companiess_list      languages_list  \n",
       "0  [Ingenious Film Partners, Twentieth Century Fo...  [English, Español]  \n",
       "1  [Walt Disney Pictures, Jerry Bruckheimer Films...           [English]  \n",
       "\n",
       "[2 rows x 26 columns]"
      ]
     },
     "execution_count": 77,
     "metadata": {},
     "output_type": "execute_result"
    }
   ],
   "source": [
    "df.head(2)"
   ]
  },
  {
   "cell_type": "code",
   "execution_count": null,
   "id": "04efacdc-89a0-40f1-95c7-26e29557217d",
   "metadata": {},
   "outputs": [],
   "source": []
  },
  {
   "cell_type": "code",
   "execution_count": 50,
   "id": "4e09cc45-bbc9-4147-a510-d1f05ea0cf79",
   "metadata": {
    "collapsed": true,
    "jupyter": {
     "outputs_hidden": true,
     "source_hidden": true
    }
   },
   "outputs": [
    {
     "data": {
      "text/html": [
       "<div>\n",
       "<style scoped>\n",
       "    .dataframe tbody tr th:only-of-type {\n",
       "        vertical-align: middle;\n",
       "    }\n",
       "\n",
       "    .dataframe tbody tr th {\n",
       "        vertical-align: top;\n",
       "    }\n",
       "\n",
       "    .dataframe thead th {\n",
       "        text-align: right;\n",
       "    }\n",
       "</style>\n",
       "<table border=\"1\" class=\"dataframe\">\n",
       "  <thead>\n",
       "    <tr style=\"text-align: right;\">\n",
       "      <th></th>\n",
       "      <th>null</th>\n",
       "      <th>percent</th>\n",
       "    </tr>\n",
       "  </thead>\n",
       "  <tbody>\n",
       "    <tr>\n",
       "      <th>homepage</th>\n",
       "      <td>3091</td>\n",
       "      <td>64.356</td>\n",
       "    </tr>\n",
       "    <tr>\n",
       "      <th>tagline</th>\n",
       "      <td>844</td>\n",
       "      <td>17.572</td>\n",
       "    </tr>\n",
       "    <tr>\n",
       "      <th>overview</th>\n",
       "      <td>3</td>\n",
       "      <td>0.062</td>\n",
       "    </tr>\n",
       "    <tr>\n",
       "      <th>runtime</th>\n",
       "      <td>2</td>\n",
       "      <td>0.042</td>\n",
       "    </tr>\n",
       "    <tr>\n",
       "      <th>release_date</th>\n",
       "      <td>1</td>\n",
       "      <td>0.021</td>\n",
       "    </tr>\n",
       "    <tr>\n",
       "      <th>budget</th>\n",
       "      <td>0</td>\n",
       "      <td>0.000</td>\n",
       "    </tr>\n",
       "    <tr>\n",
       "      <th>vote_average</th>\n",
       "      <td>0</td>\n",
       "      <td>0.000</td>\n",
       "    </tr>\n",
       "    <tr>\n",
       "      <th>title</th>\n",
       "      <td>0</td>\n",
       "      <td>0.000</td>\n",
       "    </tr>\n",
       "    <tr>\n",
       "      <th>status</th>\n",
       "      <td>0</td>\n",
       "      <td>0.000</td>\n",
       "    </tr>\n",
       "    <tr>\n",
       "      <th>spoken_languages</th>\n",
       "      <td>0</td>\n",
       "      <td>0.000</td>\n",
       "    </tr>\n",
       "    <tr>\n",
       "      <th>revenue</th>\n",
       "      <td>0</td>\n",
       "      <td>0.000</td>\n",
       "    </tr>\n",
       "    <tr>\n",
       "      <th>production_countries</th>\n",
       "      <td>0</td>\n",
       "      <td>0.000</td>\n",
       "    </tr>\n",
       "    <tr>\n",
       "      <th>genres</th>\n",
       "      <td>0</td>\n",
       "      <td>0.000</td>\n",
       "    </tr>\n",
       "    <tr>\n",
       "      <th>production_companies</th>\n",
       "      <td>0</td>\n",
       "      <td>0.000</td>\n",
       "    </tr>\n",
       "    <tr>\n",
       "      <th>popularity</th>\n",
       "      <td>0</td>\n",
       "      <td>0.000</td>\n",
       "    </tr>\n",
       "    <tr>\n",
       "      <th>original_title</th>\n",
       "      <td>0</td>\n",
       "      <td>0.000</td>\n",
       "    </tr>\n",
       "    <tr>\n",
       "      <th>original_language</th>\n",
       "      <td>0</td>\n",
       "      <td>0.000</td>\n",
       "    </tr>\n",
       "    <tr>\n",
       "      <th>keywords</th>\n",
       "      <td>0</td>\n",
       "      <td>0.000</td>\n",
       "    </tr>\n",
       "    <tr>\n",
       "      <th>id</th>\n",
       "      <td>0</td>\n",
       "      <td>0.000</td>\n",
       "    </tr>\n",
       "    <tr>\n",
       "      <th>vote_count</th>\n",
       "      <td>0</td>\n",
       "      <td>0.000</td>\n",
       "    </tr>\n",
       "  </tbody>\n",
       "</table>\n",
       "</div>"
      ],
      "text/plain": [
       "                      null  percent\n",
       "homepage              3091   64.356\n",
       "tagline                844   17.572\n",
       "overview                 3    0.062\n",
       "runtime                  2    0.042\n",
       "release_date             1    0.021\n",
       "budget                   0    0.000\n",
       "vote_average             0    0.000\n",
       "title                    0    0.000\n",
       "status                   0    0.000\n",
       "spoken_languages         0    0.000\n",
       "revenue                  0    0.000\n",
       "production_countries     0    0.000\n",
       "genres                   0    0.000\n",
       "production_companies     0    0.000\n",
       "popularity               0    0.000\n",
       "original_title           0    0.000\n",
       "original_language        0    0.000\n",
       "keywords                 0    0.000\n",
       "id                       0    0.000\n",
       "vote_count               0    0.000"
      ]
     },
     "execution_count": 50,
     "metadata": {},
     "output_type": "execute_result"
    }
   ],
   "source": [
    "# Null exploration\n",
    "def null_vals(dataframe):\n",
    "    '''function to show both number of nulls and the percentage of nulls in the whole column'''\n",
    "    null_vals = dataframe.isnull().sum() ## How many nulls in each column\n",
    "    total_cnt = len(dataframe) ## Total entries in the dataframe\n",
    "    null_vals = pd.DataFrame(null_vals,columns=['null']) ## Put the number of nulls in a single dataframe\n",
    "    null_vals['percent'] = round((null_vals['null']/total_cnt)*100,3) ## Round how many nulls are there, as %, of the df\n",
    "    \n",
    "    return null_vals.sort_values('percent', ascending=False)\n",
    "\n",
    "null_vals(df)"
   ]
  },
  {
   "cell_type": "code",
   "execution_count": 51,
   "id": "03b14fb4-8ab2-43cc-9b46-3f0f417f9868",
   "metadata": {
    "jupyter": {
     "source_hidden": true
    }
   },
   "outputs": [],
   "source": [
    "# Drop insignificant nulls\n",
    "df.dropna(\n",
    "    axis = 0,\n",
    "    how = 'any',\n",
    "    subset = ['overview', 'runtime', 'release_date'],\n",
    "    inplace = True\n",
    ")"
   ]
  },
  {
   "cell_type": "markdown",
   "id": "49b3c92c-b366-4aa1-842e-140edbf8a0a8",
   "metadata": {},
   "source": [
    "**Adds N/A to missing taglines and homepages:**"
   ]
  },
  {
   "cell_type": "code",
   "execution_count": 52,
   "id": "28a17002-40bc-4a41-bdca-baaea301b325",
   "metadata": {
    "collapsed": true,
    "jupyter": {
     "outputs_hidden": true,
     "source_hidden": true
    }
   },
   "outputs": [
    {
     "name": "stderr",
     "output_type": "stream",
     "text": [
      "C:\\Users\\Owner\\AppData\\Local\\Temp\\ipykernel_5068\\2526801947.py:1: FutureWarning: A value is trying to be set on a copy of a DataFrame or Series through chained assignment using an inplace method.\n",
      "The behavior will change in pandas 3.0. This inplace method will never work because the intermediate object on which we are setting values always behaves as a copy.\n",
      "\n",
      "For example, when doing 'df[col].method(value, inplace=True)', try using 'df.method({col: value}, inplace=True)' or df[col] = df[col].method(value) instead, to perform the operation inplace on the original object.\n",
      "\n",
      "\n",
      "  df['tagline'].fillna(\n"
     ]
    }
   ],
   "source": [
    "df['tagline'].fillna(\n",
    "    value = 'N/A',\n",
    "    method = None,\n",
    "    inplace = True\n",
    ")"
   ]
  },
  {
   "cell_type": "code",
   "execution_count": 53,
   "id": "22c6d0e5-b480-428b-a53b-765f4b1ec15c",
   "metadata": {
    "collapsed": true,
    "jupyter": {
     "outputs_hidden": true,
     "source_hidden": true
    }
   },
   "outputs": [
    {
     "name": "stderr",
     "output_type": "stream",
     "text": [
      "C:\\Users\\Owner\\AppData\\Local\\Temp\\ipykernel_5068\\1996592443.py:1: FutureWarning: A value is trying to be set on a copy of a DataFrame or Series through chained assignment using an inplace method.\n",
      "The behavior will change in pandas 3.0. This inplace method will never work because the intermediate object on which we are setting values always behaves as a copy.\n",
      "\n",
      "For example, when doing 'df[col].method(value, inplace=True)', try using 'df.method({col: value}, inplace=True)' or df[col] = df[col].method(value) instead, to perform the operation inplace on the original object.\n",
      "\n",
      "\n",
      "  df['homepage'].fillna(\n"
     ]
    }
   ],
   "source": [
    "df['homepage'].fillna(\n",
    "    value = 'N/A',\n",
    "    method = None,\n",
    "    inplace = True\n",
    ")"
   ]
  },
  {
   "cell_type": "code",
   "execution_count": 54,
   "id": "0328dfa4-4dd5-4331-8acd-4ad0a7e7cd38",
   "metadata": {
    "collapsed": true,
    "jupyter": {
     "outputs_hidden": true,
     "source_hidden": true
    }
   },
   "outputs": [
    {
     "data": {
      "text/html": [
       "<div>\n",
       "<style scoped>\n",
       "    .dataframe tbody tr th:only-of-type {\n",
       "        vertical-align: middle;\n",
       "    }\n",
       "\n",
       "    .dataframe tbody tr th {\n",
       "        vertical-align: top;\n",
       "    }\n",
       "\n",
       "    .dataframe thead th {\n",
       "        text-align: right;\n",
       "    }\n",
       "</style>\n",
       "<table border=\"1\" class=\"dataframe\">\n",
       "  <thead>\n",
       "    <tr style=\"text-align: right;\">\n",
       "      <th></th>\n",
       "      <th>null</th>\n",
       "      <th>percent</th>\n",
       "    </tr>\n",
       "  </thead>\n",
       "  <tbody>\n",
       "    <tr>\n",
       "      <th>budget</th>\n",
       "      <td>0</td>\n",
       "      <td>0.0</td>\n",
       "    </tr>\n",
       "    <tr>\n",
       "      <th>genres</th>\n",
       "      <td>0</td>\n",
       "      <td>0.0</td>\n",
       "    </tr>\n",
       "    <tr>\n",
       "      <th>vote_average</th>\n",
       "      <td>0</td>\n",
       "      <td>0.0</td>\n",
       "    </tr>\n",
       "    <tr>\n",
       "      <th>title</th>\n",
       "      <td>0</td>\n",
       "      <td>0.0</td>\n",
       "    </tr>\n",
       "    <tr>\n",
       "      <th>tagline</th>\n",
       "      <td>0</td>\n",
       "      <td>0.0</td>\n",
       "    </tr>\n",
       "    <tr>\n",
       "      <th>status</th>\n",
       "      <td>0</td>\n",
       "      <td>0.0</td>\n",
       "    </tr>\n",
       "    <tr>\n",
       "      <th>spoken_languages</th>\n",
       "      <td>0</td>\n",
       "      <td>0.0</td>\n",
       "    </tr>\n",
       "    <tr>\n",
       "      <th>runtime</th>\n",
       "      <td>0</td>\n",
       "      <td>0.0</td>\n",
       "    </tr>\n",
       "    <tr>\n",
       "      <th>revenue</th>\n",
       "      <td>0</td>\n",
       "      <td>0.0</td>\n",
       "    </tr>\n",
       "    <tr>\n",
       "      <th>release_date</th>\n",
       "      <td>0</td>\n",
       "      <td>0.0</td>\n",
       "    </tr>\n",
       "    <tr>\n",
       "      <th>production_countries</th>\n",
       "      <td>0</td>\n",
       "      <td>0.0</td>\n",
       "    </tr>\n",
       "    <tr>\n",
       "      <th>production_companies</th>\n",
       "      <td>0</td>\n",
       "      <td>0.0</td>\n",
       "    </tr>\n",
       "    <tr>\n",
       "      <th>popularity</th>\n",
       "      <td>0</td>\n",
       "      <td>0.0</td>\n",
       "    </tr>\n",
       "    <tr>\n",
       "      <th>overview</th>\n",
       "      <td>0</td>\n",
       "      <td>0.0</td>\n",
       "    </tr>\n",
       "    <tr>\n",
       "      <th>original_title</th>\n",
       "      <td>0</td>\n",
       "      <td>0.0</td>\n",
       "    </tr>\n",
       "    <tr>\n",
       "      <th>original_language</th>\n",
       "      <td>0</td>\n",
       "      <td>0.0</td>\n",
       "    </tr>\n",
       "    <tr>\n",
       "      <th>keywords</th>\n",
       "      <td>0</td>\n",
       "      <td>0.0</td>\n",
       "    </tr>\n",
       "    <tr>\n",
       "      <th>id</th>\n",
       "      <td>0</td>\n",
       "      <td>0.0</td>\n",
       "    </tr>\n",
       "    <tr>\n",
       "      <th>homepage</th>\n",
       "      <td>0</td>\n",
       "      <td>0.0</td>\n",
       "    </tr>\n",
       "    <tr>\n",
       "      <th>vote_count</th>\n",
       "      <td>0</td>\n",
       "      <td>0.0</td>\n",
       "    </tr>\n",
       "  </tbody>\n",
       "</table>\n",
       "</div>"
      ],
      "text/plain": [
       "                      null  percent\n",
       "budget                   0      0.0\n",
       "genres                   0      0.0\n",
       "vote_average             0      0.0\n",
       "title                    0      0.0\n",
       "tagline                  0      0.0\n",
       "status                   0      0.0\n",
       "spoken_languages         0      0.0\n",
       "runtime                  0      0.0\n",
       "revenue                  0      0.0\n",
       "release_date             0      0.0\n",
       "production_countries     0      0.0\n",
       "production_companies     0      0.0\n",
       "popularity               0      0.0\n",
       "overview                 0      0.0\n",
       "original_title           0      0.0\n",
       "original_language        0      0.0\n",
       "keywords                 0      0.0\n",
       "id                       0      0.0\n",
       "homepage                 0      0.0\n",
       "vote_count               0      0.0"
      ]
     },
     "execution_count": 54,
     "metadata": {},
     "output_type": "execute_result"
    }
   ],
   "source": [
    "null_vals(df)"
   ]
  },
  {
   "cell_type": "markdown",
   "id": "4564ddb0-e836-4f2a-a6f0-f85aa1a1d0d0",
   "metadata": {},
   "source": [
    "**Adds year and month columns:**"
   ]
  },
  {
   "cell_type": "code",
   "execution_count": 55,
   "id": "db19f81e-6d3e-4b9a-b12e-95e309d3e343",
   "metadata": {
    "jupyter": {
     "source_hidden": true
    }
   },
   "outputs": [],
   "source": [
    "df['year'] = df['release_date'].str[:4].astype(int)"
   ]
  },
  {
   "cell_type": "code",
   "execution_count": 56,
   "id": "20572943-46be-442e-ac01-14c845031a50",
   "metadata": {
    "jupyter": {
     "source_hidden": true
    }
   },
   "outputs": [],
   "source": [
    "df['month'] = df['release_date'].str[5:7].astype(int)"
   ]
  },
  {
   "cell_type": "markdown",
   "id": "97769417-348a-42b0-8c6b-a1340c9cff7f",
   "metadata": {},
   "source": [
    "**Extracts dictionary items into new columns:**"
   ]
  },
  {
   "cell_type": "code",
   "execution_count": 76,
   "id": "70761416-2351-4e48-b7b7-a48879afbbf4",
   "metadata": {
    "jupyter": {
     "source_hidden": true
    }
   },
   "outputs": [],
   "source": [
    "# Function for extracting items from a dictionary string\n",
    "df['genre_list'] = df['genres'].apply(lambda x: [item['name'] for item in ast.literal_eval(x)])"
   ]
  },
  {
   "cell_type": "code",
   "execution_count": 59,
   "id": "510b1dc1-b714-4490-9639-bb49376a025a",
   "metadata": {
    "jupyter": {
     "source_hidden": true
    }
   },
   "outputs": [],
   "source": [
    "# Function for extracting items from a dictionary string\n",
    "df['keywords_list'] = df['keywords'].apply(lambda x: [item['name'] for item in ast.literal_eval(x)])"
   ]
  },
  {
   "cell_type": "code",
   "execution_count": 60,
   "id": "36f52f31-f64e-4dff-892b-a3c0e0af97ec",
   "metadata": {
    "jupyter": {
     "source_hidden": true
    }
   },
   "outputs": [],
   "source": [
    "# Function for extracting items from a dictionary string\n",
    "df['companiess_list'] = df['production_companies'].apply(lambda x: [item['name'] for item in ast.literal_eval(x)])"
   ]
  },
  {
   "cell_type": "code",
   "execution_count": 61,
   "id": "04ed47f2-a94e-46f3-ae16-8914488ceee5",
   "metadata": {
    "jupyter": {
     "source_hidden": true
    }
   },
   "outputs": [],
   "source": [
    "# Function for extracting items from a dictionary string\n",
    "df['languages_list'] = df['spoken_languages'].apply(lambda x: [item['name'] for item in ast.literal_eval(x)])"
   ]
  },
  {
   "cell_type": "markdown",
   "id": "77f71df9-0654-4884-be1e-f1f2a8a758df",
   "metadata": {},
   "source": [
    "**New dataframes for missing revenue and budget figures:**"
   ]
  },
  {
   "cell_type": "code",
   "execution_count": 63,
   "id": "8fa06a69-d681-4dbf-906c-3269e510631a",
   "metadata": {
    "jupyter": {
     "source_hidden": true
    }
   },
   "outputs": [],
   "source": [
    "df2 = df[df.revenue >= 10000] # Drops missing/incorrect revenues\n",
    "df3 = df2[df2.budget >= 10000] # Drops missing/incorrect budget"
   ]
  },
  {
   "cell_type": "code",
   "execution_count": null,
   "id": "b797bbf1-b32c-4d1c-b6ca-f78e00cff465",
   "metadata": {
    "jupyter": {
     "source_hidden": true
    }
   },
   "outputs": [],
   "source": [
    "# Check for other irregularities on numericals\n",
    "df3[['id','popularity','runtime','vote_count','vote_average']].describe()"
   ]
  },
  {
   "cell_type": "markdown",
   "id": "240564ad-b07c-4af1-a3c2-97f1107f2680",
   "metadata": {},
   "source": [
    "## 2. Revenue: basic overview"
   ]
  },
  {
   "cell_type": "markdown",
   "id": "dcc96439-c10b-4a49-a40f-ababe6317f05",
   "metadata": {},
   "source": [
    "A histogram of the revenue below shows a heavy left skew, due to the 'hit-or-miss' nature of the industry."
   ]
  },
  {
   "cell_type": "code",
   "execution_count": 64,
   "id": "37cb036e-f6a2-40cf-aa80-8a6dc521041a",
   "metadata": {
    "jupyter": {
     "source_hidden": true
    }
   },
   "outputs": [
    {
     "data": {
      "image/png": "[encoded data removed]",
      "text/plain": [
       "<Figure size 500x500 with 1 Axes>"
      ]
     },
     "metadata": {},
     "output_type": "display_data"
    }
   ],
   "source": [
    "sns.displot(df3.revenue)\n",
    "plt.show()"
   ]
  },
  {
   "cell_type": "markdown",
   "id": "ecc50255-f56c-40f0-a0b2-f73243d42725",
   "metadata": {},
   "source": [
    "It's quite rare for a film to gross more than \\\\$1 billion. Of the 3205 films left after data cleaning, only 21 do so. These stand out as extreme outliers. And the top 10 by revenue are represented in the following graph. Coming in at number one is _Avatar_, having grossed more than \\\\$2.7 billion."
   ]
  },
  {
   "cell_type": "code",
   "execution_count": 65,
   "id": "deed2d6a-bd73-4906-a237-ef34ba8caed3",
   "metadata": {
    "jupyter": {
     "source_hidden": true
    }
   },
   "outputs": [
    {
     "data": {
      "image/png": "[encoded data removed]",
      "text/plain": [
       "<Figure size 640x480 with 1 Axes>"
      ]
     },
     "metadata": {},
     "output_type": "display_data"
    }
   ],
   "source": [
    "top_grossing_films = df.sort_values('revenue', ascending = False).head(10)\n",
    "sns.barplot(x = 'original_title',\n",
    "            y = 'revenue',\n",
    "            data = top_grossing_films,\n",
    "            hue = 'original_title',\n",
    "            legend=False,\n",
    "            palette = 'summer',\n",
    "           )\n",
    "\n",
    "plt.xticks(rotation=45, # rotating labels\n",
    "           horizontalalignment = 'right', # aligning them with the bars\n",
    "           fontweight = 'bold',\n",
    "           fontsize = 'small' # setting the fonts\n",
    "          )\n",
    "plt.title('Top 10 Films by Revenue')\n",
    "plt.show()"
   ]
  },
  {
   "cell_type": "markdown",
   "id": "4077d431-a30a-44ab-a18d-8dd27eb4fe7b",
   "metadata": {},
   "source": [
    "The following heatmap shows correlations between the numberic variables in the data. Vote count and budget have especially high correlations with revenue, which would be expected. Interestingly, vote average does not, which might suggest that a frequently-watched film gets a lot of votes, while that viewership count doesn't directly translate into high ratings.\n",
    "\n",
    "Also, runtime is uncorrelated, so providing \"more movie\" doesn't automatically increase box office appeal. Nor are there strong effects from seasonality or increasing year count.\n",
    "\n",
    "This means that budgets are the best place to look for explaining movie revenues!"
   ]
  },
  {
   "cell_type": "code",
   "execution_count": 66,
   "id": "4e4a1c14-598f-438a-8364-6d670cf1a449",
   "metadata": {
    "jupyter": {
     "source_hidden": true
    }
   },
   "outputs": [
    {
     "data": {
      "image/png": "[encoded data removed]",
      "text/plain": [
       "<Figure size 640x480 with 2 Axes>"
      ]
     },
     "metadata": {},
     "output_type": "display_data"
    }
   ],
   "source": [
    "sns.heatmap(df3.corr(numeric_only=True),\n",
    "           annot=True)\n",
    "plt.show()"
   ]
  },
  {
   "cell_type": "markdown",
   "id": "6d48ac91-679f-4234-b9dc-961d9cde680a",
   "metadata": {},
   "source": [
    "## 3. Revenue and budgets"
   ]
  },
  {
   "cell_type": "code",
   "execution_count": 67,
   "id": "10b26c7a-800c-4b25-ae2c-bc9b03b737b9",
   "metadata": {
    "collapsed": true,
    "jupyter": {
     "outputs_hidden": true,
     "source_hidden": true
    }
   },
   "outputs": [
    {
     "name": "stderr",
     "output_type": "stream",
     "text": [
      "C:\\Users\\Owner\\AppData\\Local\\Temp\\ipykernel_5068\\4173142459.py:2: SettingWithCopyWarning: \n",
      "A value is trying to be set on a copy of a slice from a DataFrame.\n",
      "Try using .loc[row_indexer,col_indexer] = value instead\n",
      "\n",
      "See the caveats in the documentation: https://pandas.pydata.org/pandas-docs/stable/user_guide/indexing.html#returning-a-view-versus-a-copy\n",
      "  df3['revenue_multiple'] = round((df.revenue / df.budget),1)\n"
     ]
    }
   ],
   "source": [
    "# Adds column for revenue as multiple of film budgets\n",
    "df3['revenue_multiple'] = round((df.revenue / df.budget),1)"
   ]
  },
  {
   "cell_type": "markdown",
   "id": "6f482f12-24d8-4546-8740-8d1666549c72",
   "metadata": {},
   "source": [
    "First a look at the films with the highest budgets in the dataframe:"
   ]
  },
  {
   "cell_type": "code",
   "execution_count": 68,
   "id": "7711a3a3-5add-4677-b30f-3ee88426dd22",
   "metadata": {
    "jupyter": {
     "source_hidden": true
    }
   },
   "outputs": [
    {
     "data": {
      "text/html": [
       "<div>\n",
       "<style scoped>\n",
       "    .dataframe tbody tr th:only-of-type {\n",
       "        vertical-align: middle;\n",
       "    }\n",
       "\n",
       "    .dataframe tbody tr th {\n",
       "        vertical-align: top;\n",
       "    }\n",
       "\n",
       "    .dataframe thead th {\n",
       "        text-align: right;\n",
       "    }\n",
       "</style>\n",
       "<table border=\"1\" class=\"dataframe\">\n",
       "  <thead>\n",
       "    <tr style=\"text-align: right;\">\n",
       "      <th></th>\n",
       "      <th>original_title</th>\n",
       "      <th>revenue</th>\n",
       "      <th>budget</th>\n",
       "      <th>revenue_multiple</th>\n",
       "    </tr>\n",
       "  </thead>\n",
       "  <tbody>\n",
       "    <tr>\n",
       "      <th>17</th>\n",
       "      <td>Pirates of the Caribbean: On Stranger Tides</td>\n",
       "      <td>1045713802</td>\n",
       "      <td>380000000</td>\n",
       "      <td>2.8</td>\n",
       "    </tr>\n",
       "    <tr>\n",
       "      <th>1</th>\n",
       "      <td>Pirates of the Caribbean: At World's End</td>\n",
       "      <td>961000000</td>\n",
       "      <td>300000000</td>\n",
       "      <td>3.2</td>\n",
       "    </tr>\n",
       "    <tr>\n",
       "      <th>7</th>\n",
       "      <td>Avengers: Age of Ultron</td>\n",
       "      <td>1405403694</td>\n",
       "      <td>280000000</td>\n",
       "      <td>5.0</td>\n",
       "    </tr>\n",
       "    <tr>\n",
       "      <th>10</th>\n",
       "      <td>Superman Returns</td>\n",
       "      <td>391081192</td>\n",
       "      <td>270000000</td>\n",
       "      <td>1.4</td>\n",
       "    </tr>\n",
       "    <tr>\n",
       "      <th>4</th>\n",
       "      <td>John Carter</td>\n",
       "      <td>284139100</td>\n",
       "      <td>260000000</td>\n",
       "      <td>1.1</td>\n",
       "    </tr>\n",
       "    <tr>\n",
       "      <th>6</th>\n",
       "      <td>Tangled</td>\n",
       "      <td>591794936</td>\n",
       "      <td>260000000</td>\n",
       "      <td>2.3</td>\n",
       "    </tr>\n",
       "    <tr>\n",
       "      <th>5</th>\n",
       "      <td>Spider-Man 3</td>\n",
       "      <td>890871626</td>\n",
       "      <td>258000000</td>\n",
       "      <td>3.5</td>\n",
       "    </tr>\n",
       "    <tr>\n",
       "      <th>13</th>\n",
       "      <td>The Lone Ranger</td>\n",
       "      <td>89289910</td>\n",
       "      <td>255000000</td>\n",
       "      <td>0.4</td>\n",
       "    </tr>\n",
       "    <tr>\n",
       "      <th>98</th>\n",
       "      <td>The Hobbit: An Unexpected Journey</td>\n",
       "      <td>1021103568</td>\n",
       "      <td>250000000</td>\n",
       "      <td>4.1</td>\n",
       "    </tr>\n",
       "    <tr>\n",
       "      <th>26</th>\n",
       "      <td>Captain America: Civil War</td>\n",
       "      <td>1153304495</td>\n",
       "      <td>250000000</td>\n",
       "      <td>4.6</td>\n",
       "    </tr>\n",
       "  </tbody>\n",
       "</table>\n",
       "</div>"
      ],
      "text/plain": [
       "                                 original_title     revenue     budget  \\\n",
       "17  Pirates of the Caribbean: On Stranger Tides  1045713802  380000000   \n",
       "1      Pirates of the Caribbean: At World's End   961000000  300000000   \n",
       "7                       Avengers: Age of Ultron  1405403694  280000000   \n",
       "10                             Superman Returns   391081192  270000000   \n",
       "4                                   John Carter   284139100  260000000   \n",
       "6                                       Tangled   591794936  260000000   \n",
       "5                                  Spider-Man 3   890871626  258000000   \n",
       "13                              The Lone Ranger    89289910  255000000   \n",
       "98            The Hobbit: An Unexpected Journey  1021103568  250000000   \n",
       "26                   Captain America: Civil War  1153304495  250000000   \n",
       "\n",
       "    revenue_multiple  \n",
       "17               2.8  \n",
       "1                3.2  \n",
       "7                5.0  \n",
       "10               1.4  \n",
       "4                1.1  \n",
       "6                2.3  \n",
       "5                3.5  \n",
       "13               0.4  \n",
       "98               4.1  \n",
       "26               4.6  "
      ]
     },
     "execution_count": 68,
     "metadata": {},
     "output_type": "execute_result"
    }
   ],
   "source": [
    "df3.sort_values('budget',ascending=False).head(10)[['original_title','revenue','budget','revenue_multiple']]"
   ]
  },
  {
   "cell_type": "markdown",
   "id": "cdc38600-f051-4282-8d71-f06a0cdd1b0f",
   "metadata": {},
   "source": [
    "From the table above we see the high correlation between budget and revenue. Of the films with the highest budgets, four gross over \\\\$ 1 billion, an otherwise rare occurence. Two of these, _Avengers: Age of Ultron_ and _Captain America: Civil War_ also appear in the top 10 grossing films. From this table we see that having a high budget will usually translate into having a high revenue, although this is not always the case. _The Lone Ranger_ is a notable exception, having been a major flop and earning less than half of its budget. But in general, **big budgets lead to higher revenue**."
   ]
  },
  {
   "cell_type": "markdown",
   "id": "09dbfa4c-1642-49ef-92f4-ce8a6f0f0228",
   "metadata": {},
   "source": [
    "On the opposite end of the spectrum, the next table shows films by budget in ascending order:"
   ]
  },
  {
   "cell_type": "code",
   "execution_count": 69,
   "id": "0d7e5766-90ee-4dc2-a5c8-6c1ea1904109",
   "metadata": {
    "jupyter": {
     "source_hidden": true
    }
   },
   "outputs": [
    {
     "data": {
      "text/html": [
       "<div>\n",
       "<style scoped>\n",
       "    .dataframe tbody tr th:only-of-type {\n",
       "        vertical-align: middle;\n",
       "    }\n",
       "\n",
       "    .dataframe tbody tr th {\n",
       "        vertical-align: top;\n",
       "    }\n",
       "\n",
       "    .dataframe thead th {\n",
       "        text-align: right;\n",
       "    }\n",
       "</style>\n",
       "<table border=\"1\" class=\"dataframe\">\n",
       "  <thead>\n",
       "    <tr style=\"text-align: right;\">\n",
       "      <th></th>\n",
       "      <th>original_title</th>\n",
       "      <th>revenue</th>\n",
       "      <th>budget</th>\n",
       "      <th>revenue_multiple</th>\n",
       "    </tr>\n",
       "  </thead>\n",
       "  <tbody>\n",
       "    <tr>\n",
       "      <th>4724</th>\n",
       "      <td>Eraserhead</td>\n",
       "      <td>7000000</td>\n",
       "      <td>10000</td>\n",
       "      <td>700.0</td>\n",
       "    </tr>\n",
       "    <tr>\n",
       "      <th>4788</th>\n",
       "      <td>Pink Flamingos</td>\n",
       "      <td>6000000</td>\n",
       "      <td>12000</td>\n",
       "      <td>500.0</td>\n",
       "    </tr>\n",
       "    <tr>\n",
       "      <th>4577</th>\n",
       "      <td>Paranormal Activity</td>\n",
       "      <td>193355800</td>\n",
       "      <td>15000</td>\n",
       "      <td>12890.4</td>\n",
       "    </tr>\n",
       "    <tr>\n",
       "      <th>4792</th>\n",
       "      <td>キュア</td>\n",
       "      <td>99000</td>\n",
       "      <td>20000</td>\n",
       "      <td>5.0</td>\n",
       "    </tr>\n",
       "    <tr>\n",
       "      <th>4773</th>\n",
       "      <td>Clerks</td>\n",
       "      <td>3151130</td>\n",
       "      <td>27000</td>\n",
       "      <td>116.7</td>\n",
       "    </tr>\n",
       "    <tr>\n",
       "      <th>4772</th>\n",
       "      <td>Down Terrace</td>\n",
       "      <td>10000</td>\n",
       "      <td>31192</td>\n",
       "      <td>0.3</td>\n",
       "    </tr>\n",
       "    <tr>\n",
       "      <th>4738</th>\n",
       "      <td>Pi</td>\n",
       "      <td>3221152</td>\n",
       "      <td>60000</td>\n",
       "      <td>53.7</td>\n",
       "    </tr>\n",
       "    <tr>\n",
       "      <th>4496</th>\n",
       "      <td>The Blair Witch Project</td>\n",
       "      <td>248000000</td>\n",
       "      <td>60000</td>\n",
       "      <td>4133.3</td>\n",
       "    </tr>\n",
       "    <tr>\n",
       "      <th>4752</th>\n",
       "      <td>Tiny Furniture</td>\n",
       "      <td>416498</td>\n",
       "      <td>65000</td>\n",
       "      <td>6.4</td>\n",
       "    </tr>\n",
       "    <tr>\n",
       "      <th>4742</th>\n",
       "      <td>Super Size Me</td>\n",
       "      <td>28575078</td>\n",
       "      <td>65000</td>\n",
       "      <td>439.6</td>\n",
       "    </tr>\n",
       "  </tbody>\n",
       "</table>\n",
       "</div>"
      ],
      "text/plain": [
       "               original_title    revenue  budget  revenue_multiple\n",
       "4724               Eraserhead    7000000   10000             700.0\n",
       "4788           Pink Flamingos    6000000   12000             500.0\n",
       "4577      Paranormal Activity  193355800   15000           12890.4\n",
       "4792                      キュア      99000   20000               5.0\n",
       "4773                   Clerks    3151130   27000             116.7\n",
       "4772             Down Terrace      10000   31192               0.3\n",
       "4738                       Pi    3221152   60000              53.7\n",
       "4496  The Blair Witch Project  248000000   60000            4133.3\n",
       "4752           Tiny Furniture     416498   65000               6.4\n",
       "4742            Super Size Me   28575078   65000             439.6"
      ]
     },
     "execution_count": 69,
     "metadata": {},
     "output_type": "execute_result"
    }
   ],
   "source": [
    "df3.sort_values('budget').head(10)[['original_title','revenue','budget','revenue_multiple']]"
   ]
  },
  {
   "cell_type": "markdown",
   "id": "99e91795-9697-4d72-9d8b-210943e8e445",
   "metadata": {},
   "source": [
    "Noteable about these is the large number of indie cult classics: _Eraserhead_, _Pink Flamingos_, _Paranormal Activity_, _Clerks_ and _The Blair Witch Project_. These have returns that are many multiples of their budgets. _Paranormal Activity_, for instance, returns 1.3 million % (!), having earned \\\\$193 million on an orginal budget of \\\\$15000. This far outpaces the revenue multiples from the previous table, where the highest multiple is for _Avengers: Age of Ultron_ at 500%."
   ]
  },
  {
   "cell_type": "markdown",
   "id": "fbbbc55a-c083-4e90-93c4-728b9045811e",
   "metadata": {},
   "source": [
    "The table below orders movies by revenue multiple. It's populated with many of the same films as the previous table (including the documentary _Super Size Me_). This shows the potential for **smaller titles** to have a much **larger proportional return**. Interestingly, adding genres shows a tendency for horror, including the aforementioned _Paranormal Activity_, _The Blair Witch Project_ and _Eraserhead_. That could be because horror lends itself well to indie budget sizes or they might be a way of making a large impact with minimal resources."
   ]
  },
  {
   "cell_type": "code",
   "execution_count": 72,
   "id": "9a9d9da2-5c5a-464f-a944-6bb0f4aec42c",
   "metadata": {
    "jupyter": {
     "source_hidden": true
    }
   },
   "outputs": [
    {
     "data": {
      "text/html": [
       "<div>\n",
       "<style scoped>\n",
       "    .dataframe tbody tr th:only-of-type {\n",
       "        vertical-align: middle;\n",
       "    }\n",
       "\n",
       "    .dataframe tbody tr th {\n",
       "        vertical-align: top;\n",
       "    }\n",
       "\n",
       "    .dataframe thead th {\n",
       "        text-align: right;\n",
       "    }\n",
       "</style>\n",
       "<table border=\"1\" class=\"dataframe\">\n",
       "  <thead>\n",
       "    <tr style=\"text-align: right;\">\n",
       "      <th></th>\n",
       "      <th>original_title</th>\n",
       "      <th>revenue</th>\n",
       "      <th>budget</th>\n",
       "      <th>revenue_multiple</th>\n",
       "      <th>genre_list</th>\n",
       "    </tr>\n",
       "  </thead>\n",
       "  <tbody>\n",
       "    <tr>\n",
       "      <th>4577</th>\n",
       "      <td>Paranormal Activity</td>\n",
       "      <td>193355800</td>\n",
       "      <td>15000</td>\n",
       "      <td>12890.4</td>\n",
       "      <td>[Horror, Mystery]</td>\n",
       "    </tr>\n",
       "    <tr>\n",
       "      <th>4496</th>\n",
       "      <td>The Blair Witch Project</td>\n",
       "      <td>248000000</td>\n",
       "      <td>60000</td>\n",
       "      <td>4133.3</td>\n",
       "      <td>[Horror, Mystery]</td>\n",
       "    </tr>\n",
       "    <tr>\n",
       "      <th>4724</th>\n",
       "      <td>Eraserhead</td>\n",
       "      <td>7000000</td>\n",
       "      <td>10000</td>\n",
       "      <td>700.0</td>\n",
       "      <td>[Drama, Fantasy, Horror, Science Fiction]</td>\n",
       "    </tr>\n",
       "    <tr>\n",
       "      <th>4788</th>\n",
       "      <td>Pink Flamingos</td>\n",
       "      <td>6000000</td>\n",
       "      <td>12000</td>\n",
       "      <td>500.0</td>\n",
       "      <td>[Horror, Comedy, Crime]</td>\n",
       "    </tr>\n",
       "    <tr>\n",
       "      <th>4742</th>\n",
       "      <td>Super Size Me</td>\n",
       "      <td>28575078</td>\n",
       "      <td>65000</td>\n",
       "      <td>439.6</td>\n",
       "      <td>[Documentary, Comedy, Drama]</td>\n",
       "    </tr>\n",
       "    <tr>\n",
       "      <th>4723</th>\n",
       "      <td>The Gallows</td>\n",
       "      <td>42664410</td>\n",
       "      <td>100000</td>\n",
       "      <td>426.6</td>\n",
       "      <td>[Horror, Thriller]</td>\n",
       "    </tr>\n",
       "    <tr>\n",
       "      <th>4514</th>\n",
       "      <td>Open Water</td>\n",
       "      <td>54667954</td>\n",
       "      <td>130000</td>\n",
       "      <td>420.5</td>\n",
       "      <td>[Drama, Thriller]</td>\n",
       "    </tr>\n",
       "    <tr>\n",
       "      <th>3159</th>\n",
       "      <td>The Texas Chain Saw Massacre</td>\n",
       "      <td>30859000</td>\n",
       "      <td>85000</td>\n",
       "      <td>363.0</td>\n",
       "      <td>[Horror]</td>\n",
       "    </tr>\n",
       "    <tr>\n",
       "      <th>4441</th>\n",
       "      <td>Bambi</td>\n",
       "      <td>267447150</td>\n",
       "      <td>858000</td>\n",
       "      <td>311.7</td>\n",
       "      <td>[Animation, Drama, Family]</td>\n",
       "    </tr>\n",
       "    <tr>\n",
       "      <th>4668</th>\n",
       "      <td>The Stewardesses</td>\n",
       "      <td>27000000</td>\n",
       "      <td>100000</td>\n",
       "      <td>270.0</td>\n",
       "      <td>[Comedy]</td>\n",
       "    </tr>\n",
       "  </tbody>\n",
       "</table>\n",
       "</div>"
      ],
      "text/plain": [
       "                    original_title    revenue  budget  revenue_multiple  \\\n",
       "4577           Paranormal Activity  193355800   15000           12890.4   \n",
       "4496       The Blair Witch Project  248000000   60000            4133.3   \n",
       "4724                    Eraserhead    7000000   10000             700.0   \n",
       "4788                Pink Flamingos    6000000   12000             500.0   \n",
       "4742                 Super Size Me   28575078   65000             439.6   \n",
       "4723                   The Gallows   42664410  100000             426.6   \n",
       "4514                    Open Water   54667954  130000             420.5   \n",
       "3159  The Texas Chain Saw Massacre   30859000   85000             363.0   \n",
       "4441                         Bambi  267447150  858000             311.7   \n",
       "4668              The Stewardesses   27000000  100000             270.0   \n",
       "\n",
       "                                     genre_list  \n",
       "4577                          [Horror, Mystery]  \n",
       "4496                          [Horror, Mystery]  \n",
       "4724  [Drama, Fantasy, Horror, Science Fiction]  \n",
       "4788                    [Horror, Comedy, Crime]  \n",
       "4742               [Documentary, Comedy, Drama]  \n",
       "4723                         [Horror, Thriller]  \n",
       "4514                          [Drama, Thriller]  \n",
       "3159                                   [Horror]  \n",
       "4441                 [Animation, Drama, Family]  \n",
       "4668                                   [Comedy]  "
      ]
     },
     "execution_count": 72,
     "metadata": {},
     "output_type": "execute_result"
    }
   ],
   "source": [
    "df3.sort_values('revenue_multiple',ascending=False).head(10)[['original_title','revenue','budget','revenue_multiple','genre_list']]"
   ]
  },
  {
   "cell_type": "markdown",
   "id": "5705a142-93ca-4f67-9e27-04936aaad02e",
   "metadata": {},
   "source": [
    "So in sum, while big budgets garner a lot of box office attention, smaller films have the potential for a much return on capital. Meanwhile, if they flop, the loss is much less severe than they are for major Hollywood projects. However, it's also important to look out for selection bias, as films with such micro-budgets might have a lower chance of being listed on TMDB if they flop. And cancelled projects never make it to the listing, so even producing indie films carries hidden risk."
   ]
  }
 ],
 "metadata": {
  "kernelspec": {
   "display_name": "Python [conda env:base] *",
   "language": "python",
   "name": "conda-base-py"
  },
  "language_info": {
   "codemirror_mode": {
    "name": "ipython",
    "version": 3
   },
   "file_extension": ".py",
   "mimetype": "text/x-python",
   "name": "python",
   "nbconvert_exporter": "python",
   "pygments_lexer": "ipython3",
   "version": "3.12.7"
  }
 },
 "nbformat": 4,
 "nbformat_minor": 5
}
